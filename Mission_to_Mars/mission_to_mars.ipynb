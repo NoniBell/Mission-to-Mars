{
 "cells": [
  {
   "cell_type": "code",
   "execution_count": 6,
   "metadata": {},
   "outputs": [],
   "source": [
    "import os\n",
    "import requests\n",
    "from bs4 import BeautifulSoup as bs\n",
    "import pandas as pd\n",
    "from splinter import Browser\n",
    "from webdriver_manager.chrome import ChromeDriverManager"
   ]
  },
  {
   "cell_type": "code",
   "execution_count": 7,
   "metadata": {},
   "outputs": [
    {
     "name": "stderr",
     "output_type": "stream",
     "text": [
      "\n",
      "\n",
      "====== WebDriver manager ======\n",
      "Current google-chrome version is 90.0.4430\n",
      "Get LATEST driver version for 90.0.4430\n",
      "Driver [C:\\Users\\Noni Bell\\.wdm\\drivers\\chromedriver\\win32\\90.0.4430.24\\chromedriver.exe] found in cache\n"
     ]
    }
   ],
   "source": [
    "# Setup splinter\n",
    "executable_path = {'executable_path': ChromeDriverManager().install()}\n",
    "browser = Browser('chrome', **executable_path, headless=False)"
   ]
  },
  {
   "cell_type": "markdown",
   "metadata": {},
   "source": [
    "# NASA Mars News"
   ]
  },
  {
   "cell_type": "code",
   "execution_count": 8,
   "metadata": {},
   "outputs": [],
   "source": [
    "#create url variable for website\n",
    "mars_url = \"https://redplanetscience.com/#\"\n",
    "#visit url\n",
    "browser.visit(mars_url)\n",
    "#create html object and parse with bs\n",
    "mars_html = browser.html\n",
    "mars_soup = bs(mars_html, 'html.parser')"
   ]
  },
  {
   "cell_type": "code",
   "execution_count": 9,
   "metadata": {},
   "outputs": [],
   "source": [
    "#find the first news title and paragraph body\n",
    "#save to variables\n",
    "news_title = mars_soup.find('div', class_='content_title').text\n",
    "news_text = mars_soup.find('div', class_='article_teaser_body').text"
   ]
  },
  {
   "cell_type": "markdown",
   "metadata": {},
   "source": [
    "# JPL Mars Space Images - Featured Image"
   ]
  },
  {
   "cell_type": "code",
   "execution_count": 10,
   "metadata": {},
   "outputs": [],
   "source": [
    "#create url for website\n",
    "#visit url\n",
    "#create html object and parse with bs\n",
    "space_url = \"https://spaceimages-mars.com/\"\n",
    "browser.visit(space_url)\n",
    "space_html = browser.html\n",
    "space_soup = bs(space_html, 'html.parser')"
   ]
  },
  {
   "cell_type": "code",
   "execution_count": 11,
   "metadata": {},
   "outputs": [],
   "source": [
    "#find the url for the featured image\n",
    "#save to variable\n",
    "pull = space_soup.find('img', class_='headerimage fade-in')\n",
    "featured_image_url = space_url + pull.get('src')"
   ]
  },
  {
   "cell_type": "markdown",
   "metadata": {},
   "source": [
    "# Mars Facts"
   ]
  },
  {
   "cell_type": "code",
   "execution_count": 12,
   "metadata": {},
   "outputs": [],
   "source": [
    "#creat url for website\n",
    "#read url with pandas\n",
    "facts_url = \"https://galaxyfacts-mars.com/\"\n",
    "facts_df = pd.read_html(facts_url)\n",
    "#set df to first table pull\n",
    "facts_df = facts_df[0]\n",
    "#set column names\n",
    "facts_df.columns = ['Facts', 'Mars', 'Earth']\n",
    "#drop top row, set index to first column\n",
    "facts_df = facts_df.drop([0])\n",
    "facts_df = facts_df.set_index('Facts')\n",
    "#convert df to html string\n",
    "facts_html = facts_df.to_html()"
   ]
  },
  {
   "cell_type": "markdown",
   "metadata": {},
   "source": [
    "# Mars Hemispheres"
   ]
  },
  {
   "cell_type": "code",
   "execution_count": 13,
   "metadata": {},
   "outputs": [],
   "source": [
    "#grab urls for all full res screenshots\n",
    "cerberus_url = \"https://marshemispheres.com/cerberus.html\"\n",
    "sch_url = \"https://marshemispheres.com/schiaparelli.html\"\n",
    "valles_url = \"https://marshemispheres.com/valles.html\"\n",
    "syrtis_url = \"https://marshemispheres.com/syrtis.html\"\n",
    "\n",
    "#visit urls and create html objects\n",
    "browser.visit(cerberus_url)\n",
    "cer_html = browser.html\n",
    "cer_soup = bs(cer_html, 'html.parser')\n",
    "\n",
    "browser.visit(sch_url)\n",
    "sch_html = browser.html\n",
    "sch_soup = bs(sch_html, 'html.parser')\n",
    "\n",
    "browser.visit(valles_url)\n",
    "valles_html = browser.html\n",
    "valles_soup = bs(valles_html, 'html.parser')\n",
    "\n",
    "browser.visit(syrtis_url)\n",
    "syrtis_html = browser.html\n",
    "syrtis_soup = bs(syrtis_html, 'html.parser')"
   ]
  },
  {
   "cell_type": "code",
   "execution_count": 24,
   "metadata": {},
   "outputs": [],
   "source": [
    "#create empty hem list\n",
    "hemisphere_image_urls = []\n",
    "\n",
    "#pull titles\n",
    "cer_title = cer_soup.find('h2').text\n",
    "sch_title = sch_soup.find('h2').text\n",
    "valles_title = valles_soup.find('h2').text\n",
    "syrtis_title = syrtis_soup.find('h2').text\n",
    "\n",
    "#pull img_urls\n",
    "cer_img = cer_soup.find('img', class_='wide-image').get('src')\n",
    "sch_img = sch_soup.find('img', class_='wide-image').get('src')\n",
    "valles_img = valles_soup.find('img', class_='wide-image').get('src')\n",
    "syrtis_img = syrtis_soup.find('img', class_='wide-image').get('src')\n",
    "\n",
    "#create dictionaries\n",
    "cer_dict = {'title': cer_title, 'url_img': cer_img}\n",
    "sch_dict = {'title': sch_title, 'url_img': sch_img}\n",
    "valles_dict = {'title': valles_title, 'url_img': valles_img}\n",
    "syrtis_dict = {'title': syrtis_title, 'url_img': syrtis_img}\n",
    "\n",
    "#append dicts to list\n",
    "hemisphere_image_urls.append(cer_dict)\n",
    "hemisphere_image_urls.append(sch_dict)\n",
    "hemisphere_image_urls.append(valles_dict)\n",
    "hemisphere_image_urls.append(syrtis_dict)"
   ]
  },
  {
   "cell_type": "code",
   "execution_count": 25,
   "metadata": {},
   "outputs": [],
   "source": [
    "browser.quit()"
   ]
  }
 ],
 "metadata": {
  "kernelspec": {
   "display_name": "Python 3",
   "language": "python",
   "name": "python3"
  },
  "language_info": {
   "codemirror_mode": {
    "name": "ipython",
    "version": 3
   },
   "file_extension": ".py",
   "mimetype": "text/x-python",
   "name": "python",
   "nbconvert_exporter": "python",
   "pygments_lexer": "ipython3",
   "version": "3.8.5"
  }
 },
 "nbformat": 4,
 "nbformat_minor": 4
}
